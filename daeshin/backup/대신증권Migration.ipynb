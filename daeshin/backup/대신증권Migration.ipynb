{
 "cells": [
  {
   "cell_type": "code",
   "execution_count": 41,
   "metadata": {
    "collapsed": true
   },
   "outputs": [],
   "source": [
    "import warnings\n",
    "warnings.filterwarnings('ignore')\n",
    "import os\n",
    "from sqlalchemy import create_engine, Table\n",
    "from daeshin.models.minutepricemodel import MinutePriceModel\n",
    "from dotenv import load_dotenv\n",
    "from pathlib import Path\n",
    "import pandas as pd\n",
    "from config.settings import META"
   ]
  },
  {
   "cell_type": "code",
   "execution_count": 2,
   "outputs": [
    {
     "data": {
      "text/plain": "True"
     },
     "execution_count": 2,
     "metadata": {},
     "output_type": "execute_result"
    }
   ],
   "source": [
    "load_dotenv()"
   ],
   "metadata": {
    "collapsed": false,
    "pycharm": {
     "name": "#%%\n"
    }
   }
  },
  {
   "cell_type": "code",
   "execution_count": 3,
   "outputs": [],
   "source": [
    "LOCAL_DAESHIN_DATABASE = os.environ.get(\"LOCAL_DAESHIN_DATABASE\")"
   ],
   "metadata": {
    "collapsed": false,
    "pycharm": {
     "name": "#%%\n"
    }
   }
  },
  {
   "cell_type": "code",
   "execution_count": 5,
   "outputs": [],
   "source": [
    "engine = create_engine(LOCAL_DAESHIN_DATABASE)"
   ],
   "metadata": {
    "collapsed": false,
    "pycharm": {
     "name": "#%%\n"
    }
   }
  },
  {
   "cell_type": "code",
   "execution_count": 6,
   "outputs": [],
   "source": [
    "conn = engine.connect()"
   ],
   "metadata": {
    "collapsed": false,
    "pycharm": {
     "name": "#%%\n"
    }
   }
  },
  {
   "cell_type": "code",
   "execution_count": 16,
   "outputs": [],
   "source": [
    "file_paths = Path('data').glob(\"*.pkl\")"
   ],
   "metadata": {
    "collapsed": false,
    "pycharm": {
     "name": "#%%\n"
    }
   }
  },
  {
   "cell_type": "code",
   "execution_count": 17,
   "outputs": [],
   "source": [
    "tmp = list(file_paths)"
   ],
   "metadata": {
    "collapsed": false,
    "pycharm": {
     "name": "#%%\n"
    }
   }
  },
  {
   "cell_type": "code",
   "execution_count": 33,
   "outputs": [],
   "source": [
    "def rename_columns(x: str):\n",
    "    if \"_price\" in x:\n",
    "        return x.replace(\"_price\", \"\")\n",
    "    else:\n",
    "        return x"
   ],
   "metadata": {
    "collapsed": false,
    "pycharm": {
     "name": "#%%\n"
    }
   }
  },
  {
   "cell_type": "code",
   "execution_count": 38,
   "outputs": [],
   "source": [
    "ticker = tmp[0].stem\n",
    "data = pd.read_pickle(tmp[0])\n",
    "data.rename(columns=rename_columns, inplace=True)"
   ],
   "metadata": {
    "collapsed": false,
    "pycharm": {
     "name": "#%%\n"
    }
   }
  },
  {
   "cell_type": "code",
   "execution_count": 39,
   "outputs": [
    {
     "data": {
      "text/plain": "                      date   open   high    low  close  volume  \\\n0      2019-03-25 09:01:00   9600   9600   9590   9590    1394   \n1      2019-03-25 09:02:00   9590   9590   9590   9590     954   \n2      2019-03-25 09:04:00   9590   9590   9580   9580      52   \n3      2019-03-25 09:05:00   9580   9580   9560   9560     549   \n4      2019-03-25 09:06:00   9560   9560   9550   9550     904   \n...                    ...    ...    ...    ...    ...     ...   \n190061 2021-10-08 15:17:00  20150  20150  19100  19400  297553   \n190062 2021-10-08 15:18:00  19400  19450  18800  18850  218788   \n190063 2021-10-08 15:19:00  18850  19400  18800  19350  135698   \n190064 2021-10-08 15:20:00  19350  19550  19250  19500   87431   \n190065 2021-10-08 15:30:00  19350  19350  19350  19350  166496   \n\n        transaction_amount  ticker  \n0                 13380000  000020  \n1                  9150000  000020  \n2                   490000  000020  \n3                  5250000  000020  \n4                  8640000  000020  \n...                    ...     ...  \n190061          5801920000  000020  \n190062          4174270000  000020  \n190063          2605120000  000020  \n190064          1698100000  000020  \n190065          3221690000  000020  \n\n[190066 rows x 8 columns]",
      "text/html": "<div>\n<style scoped>\n    .dataframe tbody tr th:only-of-type {\n        vertical-align: middle;\n    }\n\n    .dataframe tbody tr th {\n        vertical-align: top;\n    }\n\n    .dataframe thead th {\n        text-align: right;\n    }\n</style>\n<table border=\"1\" class=\"dataframe\">\n  <thead>\n    <tr style=\"text-align: right;\">\n      <th></th>\n      <th>date</th>\n      <th>open</th>\n      <th>high</th>\n      <th>low</th>\n      <th>close</th>\n      <th>volume</th>\n      <th>transaction_amount</th>\n      <th>ticker</th>\n    </tr>\n  </thead>\n  <tbody>\n    <tr>\n      <th>0</th>\n      <td>2019-03-25 09:01:00</td>\n      <td>9600</td>\n      <td>9600</td>\n      <td>9590</td>\n      <td>9590</td>\n      <td>1394</td>\n      <td>13380000</td>\n      <td>000020</td>\n    </tr>\n    <tr>\n      <th>1</th>\n      <td>2019-03-25 09:02:00</td>\n      <td>9590</td>\n      <td>9590</td>\n      <td>9590</td>\n      <td>9590</td>\n      <td>954</td>\n      <td>9150000</td>\n      <td>000020</td>\n    </tr>\n    <tr>\n      <th>2</th>\n      <td>2019-03-25 09:04:00</td>\n      <td>9590</td>\n      <td>9590</td>\n      <td>9580</td>\n      <td>9580</td>\n      <td>52</td>\n      <td>490000</td>\n      <td>000020</td>\n    </tr>\n    <tr>\n      <th>3</th>\n      <td>2019-03-25 09:05:00</td>\n      <td>9580</td>\n      <td>9580</td>\n      <td>9560</td>\n      <td>9560</td>\n      <td>549</td>\n      <td>5250000</td>\n      <td>000020</td>\n    </tr>\n    <tr>\n      <th>4</th>\n      <td>2019-03-25 09:06:00</td>\n      <td>9560</td>\n      <td>9560</td>\n      <td>9550</td>\n      <td>9550</td>\n      <td>904</td>\n      <td>8640000</td>\n      <td>000020</td>\n    </tr>\n    <tr>\n      <th>...</th>\n      <td>...</td>\n      <td>...</td>\n      <td>...</td>\n      <td>...</td>\n      <td>...</td>\n      <td>...</td>\n      <td>...</td>\n      <td>...</td>\n    </tr>\n    <tr>\n      <th>190061</th>\n      <td>2021-10-08 15:17:00</td>\n      <td>20150</td>\n      <td>20150</td>\n      <td>19100</td>\n      <td>19400</td>\n      <td>297553</td>\n      <td>5801920000</td>\n      <td>000020</td>\n    </tr>\n    <tr>\n      <th>190062</th>\n      <td>2021-10-08 15:18:00</td>\n      <td>19400</td>\n      <td>19450</td>\n      <td>18800</td>\n      <td>18850</td>\n      <td>218788</td>\n      <td>4174270000</td>\n      <td>000020</td>\n    </tr>\n    <tr>\n      <th>190063</th>\n      <td>2021-10-08 15:19:00</td>\n      <td>18850</td>\n      <td>19400</td>\n      <td>18800</td>\n      <td>19350</td>\n      <td>135698</td>\n      <td>2605120000</td>\n      <td>000020</td>\n    </tr>\n    <tr>\n      <th>190064</th>\n      <td>2021-10-08 15:20:00</td>\n      <td>19350</td>\n      <td>19550</td>\n      <td>19250</td>\n      <td>19500</td>\n      <td>87431</td>\n      <td>1698100000</td>\n      <td>000020</td>\n    </tr>\n    <tr>\n      <th>190065</th>\n      <td>2021-10-08 15:30:00</td>\n      <td>19350</td>\n      <td>19350</td>\n      <td>19350</td>\n      <td>19350</td>\n      <td>166496</td>\n      <td>3221690000</td>\n      <td>000020</td>\n    </tr>\n  </tbody>\n</table>\n<p>190066 rows × 8 columns</p>\n</div>"
     },
     "execution_count": 39,
     "metadata": {},
     "output_type": "execute_result"
    }
   ],
   "source": [
    "def insert_minute_price(path):\n",
    "    LOCAL_DAESHIN_DATABASE = os.environ.get(\"LOCAL_DAESHIN_DATABASE\")\n",
    "    engine = create_engine(LOCAL_DAESHIN_DATABASE)\n",
    "    conn = engine.connect()\n",
    "    minute_table = Table(MinutePriceModel, META, autoload_with=engine)\n",
    "    price = pd.read_pickle(path)\n",
    "    price.rename(columns=rename_columns, inplace=True)\n",
    "    price_dict = price.to_dict('records')\n",
    "    conn.execute(minute_table.insert().prefix_with(\"IGNORE\"), price_dict)\n",
    "    del conn\n"
   ],
   "metadata": {
    "collapsed": false,
    "pycharm": {
     "name": "#%%\n"
    }
   }
  },
  {
   "cell_type": "code",
   "execution_count": null,
   "outputs": [],
   "source": [],
   "metadata": {
    "collapsed": false,
    "pycharm": {
     "name": "#%%\n"
    }
   }
  }
 ],
 "metadata": {
  "kernelspec": {
   "display_name": "Python 3",
   "language": "python",
   "name": "python3"
  },
  "language_info": {
   "codemirror_mode": {
    "name": "ipython",
    "version": 2
   },
   "file_extension": ".py",
   "mimetype": "text/x-python",
   "name": "python",
   "nbconvert_exporter": "python",
   "pygments_lexer": "ipython2",
   "version": "2.7.6"
  }
 },
 "nbformat": 4,
 "nbformat_minor": 0
}