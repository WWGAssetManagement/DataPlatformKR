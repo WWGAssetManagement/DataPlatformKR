{
 "cells": [
  {
   "cell_type": "code",
   "execution_count": 1,
   "metadata": {
    "collapsed": true
   },
   "outputs": [],
   "source": [
    "import warnings\n",
    "warnings.filterwarnings('ignore')\n",
    "import os\n",
    "from sqlalchemy import create_engine\n",
    "from dotenv import load_dotenv\n",
    "import pandas as pd"
   ]
  },
  {
   "cell_type": "code",
   "execution_count": 2,
   "outputs": [
    {
     "data": {
      "text/plain": "True"
     },
     "execution_count": 2,
     "metadata": {},
     "output_type": "execute_result"
    }
   ],
   "source": [
    "load_dotenv()"
   ],
   "metadata": {
    "collapsed": false,
    "pycharm": {
     "name": "#%%\n"
    }
   }
  },
  {
   "cell_type": "code",
   "execution_count": 3,
   "outputs": [],
   "source": [
    "DATABASE = os.environ.get(\"DataBase\")"
   ],
   "metadata": {
    "collapsed": false,
    "pycharm": {
     "name": "#%%\n"
    }
   }
  },
  {
   "cell_type": "code",
   "execution_count": 4,
   "outputs": [],
   "source": [
    "engine = create_engine(DATABASE)"
   ],
   "metadata": {
    "collapsed": false,
    "pycharm": {
     "name": "#%%\n"
    }
   }
  },
  {
   "cell_type": "code",
   "execution_count": 5,
   "outputs": [],
   "source": [
    "conn = engine.connect()"
   ],
   "metadata": {
    "collapsed": false,
    "pycharm": {
     "name": "#%%\n"
    }
   }
  },
  {
   "cell_type": "code",
   "execution_count": 6,
   "outputs": [],
   "source": [
    "sql = \"SHOW TABLES\""
   ],
   "metadata": {
    "collapsed": false,
    "pycharm": {
     "name": "#%%\n"
    }
   }
  },
  {
   "cell_type": "code",
   "execution_count": 7,
   "outputs": [],
   "source": [
    "tables = pd.read_sql(sql, conn)"
   ],
   "metadata": {
    "collapsed": false,
    "pycharm": {
     "name": "#%%\n"
    }
   }
  },
  {
   "cell_type": "code",
   "execution_count": 17,
   "outputs": [],
   "source": [
    "table_names = tables['Tables_in_cybos_plus_stock_minute_data']"
   ],
   "metadata": {
    "collapsed": false,
    "pycharm": {
     "name": "#%%\n"
    }
   }
  },
  {
   "cell_type": "code",
   "execution_count": 12,
   "outputs": [],
   "source": [
    "data_sql = f\"SELECT * FROM {tables['Tables_in_cybos_plus_stock_minute_data'][0]}\""
   ],
   "metadata": {
    "collapsed": false,
    "pycharm": {
     "name": "#%%\n"
    }
   }
  },
  {
   "cell_type": "code",
   "execution_count": 14,
   "outputs": [],
   "source": [
    "price = pd.read_sql(data_sql, conn)"
   ],
   "metadata": {
    "collapsed": false,
    "pycharm": {
     "name": "#%%\n"
    }
   }
  },
  {
   "cell_type": "code",
   "execution_count": 15,
   "outputs": [
    {
     "data": {
      "text/plain": "                      date  open_price  high_price  low_price  close_price  \\\n0      2019-03-25 09:01:00        9600        9600       9590         9590   \n1      2019-03-25 09:02:00        9590        9590       9590         9590   \n2      2019-03-25 09:04:00        9590        9590       9580         9580   \n3      2019-03-25 09:05:00        9580        9580       9560         9560   \n4      2019-03-25 09:06:00        9560        9560       9550         9550   \n...                    ...         ...         ...        ...          ...   \n190061 2021-10-08 15:17:00       20150       20150      19100        19400   \n190062 2021-10-08 15:18:00       19400       19450      18800        18850   \n190063 2021-10-08 15:19:00       18850       19400      18800        19350   \n190064 2021-10-08 15:20:00       19350       19550      19250        19500   \n190065 2021-10-08 15:30:00       19350       19350      19350        19350   \n\n        volume  transaction_amount  \n0         1394            13380000  \n1          954             9150000  \n2           52              490000  \n3          549             5250000  \n4          904             8640000  \n...        ...                 ...  \n190061  297553          5801920000  \n190062  218788          4174270000  \n190063  135698          2605120000  \n190064   87431          1698100000  \n190065  166496          3221690000  \n\n[190066 rows x 7 columns]",
      "text/html": "<div>\n<style scoped>\n    .dataframe tbody tr th:only-of-type {\n        vertical-align: middle;\n    }\n\n    .dataframe tbody tr th {\n        vertical-align: top;\n    }\n\n    .dataframe thead th {\n        text-align: right;\n    }\n</style>\n<table border=\"1\" class=\"dataframe\">\n  <thead>\n    <tr style=\"text-align: right;\">\n      <th></th>\n      <th>date</th>\n      <th>open_price</th>\n      <th>high_price</th>\n      <th>low_price</th>\n      <th>close_price</th>\n      <th>volume</th>\n      <th>transaction_amount</th>\n    </tr>\n  </thead>\n  <tbody>\n    <tr>\n      <th>0</th>\n      <td>2019-03-25 09:01:00</td>\n      <td>9600</td>\n      <td>9600</td>\n      <td>9590</td>\n      <td>9590</td>\n      <td>1394</td>\n      <td>13380000</td>\n    </tr>\n    <tr>\n      <th>1</th>\n      <td>2019-03-25 09:02:00</td>\n      <td>9590</td>\n      <td>9590</td>\n      <td>9590</td>\n      <td>9590</td>\n      <td>954</td>\n      <td>9150000</td>\n    </tr>\n    <tr>\n      <th>2</th>\n      <td>2019-03-25 09:04:00</td>\n      <td>9590</td>\n      <td>9590</td>\n      <td>9580</td>\n      <td>9580</td>\n      <td>52</td>\n      <td>490000</td>\n    </tr>\n    <tr>\n      <th>3</th>\n      <td>2019-03-25 09:05:00</td>\n      <td>9580</td>\n      <td>9580</td>\n      <td>9560</td>\n      <td>9560</td>\n      <td>549</td>\n      <td>5250000</td>\n    </tr>\n    <tr>\n      <th>4</th>\n      <td>2019-03-25 09:06:00</td>\n      <td>9560</td>\n      <td>9560</td>\n      <td>9550</td>\n      <td>9550</td>\n      <td>904</td>\n      <td>8640000</td>\n    </tr>\n    <tr>\n      <th>...</th>\n      <td>...</td>\n      <td>...</td>\n      <td>...</td>\n      <td>...</td>\n      <td>...</td>\n      <td>...</td>\n      <td>...</td>\n    </tr>\n    <tr>\n      <th>190061</th>\n      <td>2021-10-08 15:17:00</td>\n      <td>20150</td>\n      <td>20150</td>\n      <td>19100</td>\n      <td>19400</td>\n      <td>297553</td>\n      <td>5801920000</td>\n    </tr>\n    <tr>\n      <th>190062</th>\n      <td>2021-10-08 15:18:00</td>\n      <td>19400</td>\n      <td>19450</td>\n      <td>18800</td>\n      <td>18850</td>\n      <td>218788</td>\n      <td>4174270000</td>\n    </tr>\n    <tr>\n      <th>190063</th>\n      <td>2021-10-08 15:19:00</td>\n      <td>18850</td>\n      <td>19400</td>\n      <td>18800</td>\n      <td>19350</td>\n      <td>135698</td>\n      <td>2605120000</td>\n    </tr>\n    <tr>\n      <th>190064</th>\n      <td>2021-10-08 15:20:00</td>\n      <td>19350</td>\n      <td>19550</td>\n      <td>19250</td>\n      <td>19500</td>\n      <td>87431</td>\n      <td>1698100000</td>\n    </tr>\n    <tr>\n      <th>190065</th>\n      <td>2021-10-08 15:30:00</td>\n      <td>19350</td>\n      <td>19350</td>\n      <td>19350</td>\n      <td>19350</td>\n      <td>166496</td>\n      <td>3221690000</td>\n    </tr>\n  </tbody>\n</table>\n<p>190066 rows × 7 columns</p>\n</div>"
     },
     "execution_count": 15,
     "metadata": {},
     "output_type": "execute_result"
    }
   ],
   "source": [
    "price"
   ],
   "metadata": {
    "collapsed": false,
    "pycharm": {
     "name": "#%%\n"
    }
   }
  },
  {
   "cell_type": "code",
   "execution_count": 16,
   "outputs": [],
   "source": [
    "def get_data(table_name: str):\n",
    "    data_sql = f\"SELECT * FROM {table_name}\"\n",
    "    price = pd.read_sql(data_sql, conn)\n",
    "    ticker = table_name.split('_')[1]\n",
    "    price['ticker'] = ticker\n",
    "    return price"
   ],
   "metadata": {
    "collapsed": false,
    "pycharm": {
     "name": "#%%\n"
    }
   }
  },
  {
   "cell_type": "code",
   "execution_count": 18,
   "outputs": [
    {
     "data": {
      "text/plain": "                      date  open_price  high_price  low_price  close_price  \\\n0      2019-03-25 09:01:00        9600        9600       9590         9590   \n1      2019-03-25 09:02:00        9590        9590       9590         9590   \n2      2019-03-25 09:04:00        9590        9590       9580         9580   \n3      2019-03-25 09:05:00        9580        9580       9560         9560   \n4      2019-03-25 09:06:00        9560        9560       9550         9550   \n...                    ...         ...         ...        ...          ...   \n190061 2021-10-08 15:17:00       20150       20150      19100        19400   \n190062 2021-10-08 15:18:00       19400       19450      18800        18850   \n190063 2021-10-08 15:19:00       18850       19400      18800        19350   \n190064 2021-10-08 15:20:00       19350       19550      19250        19500   \n190065 2021-10-08 15:30:00       19350       19350      19350        19350   \n\n        volume  transaction_amount  ticker  \n0         1394            13380000  000020  \n1          954             9150000  000020  \n2           52              490000  000020  \n3          549             5250000  000020  \n4          904             8640000  000020  \n...        ...                 ...     ...  \n190061  297553          5801920000  000020  \n190062  218788          4174270000  000020  \n190063  135698          2605120000  000020  \n190064   87431          1698100000  000020  \n190065  166496          3221690000  000020  \n\n[190066 rows x 8 columns]",
      "text/html": "<div>\n<style scoped>\n    .dataframe tbody tr th:only-of-type {\n        vertical-align: middle;\n    }\n\n    .dataframe tbody tr th {\n        vertical-align: top;\n    }\n\n    .dataframe thead th {\n        text-align: right;\n    }\n</style>\n<table border=\"1\" class=\"dataframe\">\n  <thead>\n    <tr style=\"text-align: right;\">\n      <th></th>\n      <th>date</th>\n      <th>open_price</th>\n      <th>high_price</th>\n      <th>low_price</th>\n      <th>close_price</th>\n      <th>volume</th>\n      <th>transaction_amount</th>\n      <th>ticker</th>\n    </tr>\n  </thead>\n  <tbody>\n    <tr>\n      <th>0</th>\n      <td>2019-03-25 09:01:00</td>\n      <td>9600</td>\n      <td>9600</td>\n      <td>9590</td>\n      <td>9590</td>\n      <td>1394</td>\n      <td>13380000</td>\n      <td>000020</td>\n    </tr>\n    <tr>\n      <th>1</th>\n      <td>2019-03-25 09:02:00</td>\n      <td>9590</td>\n      <td>9590</td>\n      <td>9590</td>\n      <td>9590</td>\n      <td>954</td>\n      <td>9150000</td>\n      <td>000020</td>\n    </tr>\n    <tr>\n      <th>2</th>\n      <td>2019-03-25 09:04:00</td>\n      <td>9590</td>\n      <td>9590</td>\n      <td>9580</td>\n      <td>9580</td>\n      <td>52</td>\n      <td>490000</td>\n      <td>000020</td>\n    </tr>\n    <tr>\n      <th>3</th>\n      <td>2019-03-25 09:05:00</td>\n      <td>9580</td>\n      <td>9580</td>\n      <td>9560</td>\n      <td>9560</td>\n      <td>549</td>\n      <td>5250000</td>\n      <td>000020</td>\n    </tr>\n    <tr>\n      <th>4</th>\n      <td>2019-03-25 09:06:00</td>\n      <td>9560</td>\n      <td>9560</td>\n      <td>9550</td>\n      <td>9550</td>\n      <td>904</td>\n      <td>8640000</td>\n      <td>000020</td>\n    </tr>\n    <tr>\n      <th>...</th>\n      <td>...</td>\n      <td>...</td>\n      <td>...</td>\n      <td>...</td>\n      <td>...</td>\n      <td>...</td>\n      <td>...</td>\n      <td>...</td>\n    </tr>\n    <tr>\n      <th>190061</th>\n      <td>2021-10-08 15:17:00</td>\n      <td>20150</td>\n      <td>20150</td>\n      <td>19100</td>\n      <td>19400</td>\n      <td>297553</td>\n      <td>5801920000</td>\n      <td>000020</td>\n    </tr>\n    <tr>\n      <th>190062</th>\n      <td>2021-10-08 15:18:00</td>\n      <td>19400</td>\n      <td>19450</td>\n      <td>18800</td>\n      <td>18850</td>\n      <td>218788</td>\n      <td>4174270000</td>\n      <td>000020</td>\n    </tr>\n    <tr>\n      <th>190063</th>\n      <td>2021-10-08 15:19:00</td>\n      <td>18850</td>\n      <td>19400</td>\n      <td>18800</td>\n      <td>19350</td>\n      <td>135698</td>\n      <td>2605120000</td>\n      <td>000020</td>\n    </tr>\n    <tr>\n      <th>190064</th>\n      <td>2021-10-08 15:20:00</td>\n      <td>19350</td>\n      <td>19550</td>\n      <td>19250</td>\n      <td>19500</td>\n      <td>87431</td>\n      <td>1698100000</td>\n      <td>000020</td>\n    </tr>\n    <tr>\n      <th>190065</th>\n      <td>2021-10-08 15:30:00</td>\n      <td>19350</td>\n      <td>19350</td>\n      <td>19350</td>\n      <td>19350</td>\n      <td>166496</td>\n      <td>3221690000</td>\n      <td>000020</td>\n    </tr>\n  </tbody>\n</table>\n<p>190066 rows × 8 columns</p>\n</div>"
     },
     "execution_count": 18,
     "metadata": {},
     "output_type": "execute_result"
    }
   ],
   "source": [
    "get_data(table_names[0])"
   ],
   "metadata": {
    "collapsed": false,
    "pycharm": {
     "name": "#%%\n"
    }
   }
  },
  {
   "cell_type": "code",
   "execution_count": null,
   "outputs": [],
   "source": [],
   "metadata": {
    "collapsed": false,
    "pycharm": {
     "name": "#%%\n"
    }
   }
  }
 ],
 "metadata": {
  "kernelspec": {
   "display_name": "Python 3",
   "language": "python",
   "name": "python3"
  },
  "language_info": {
   "codemirror_mode": {
    "name": "ipython",
    "version": 2
   },
   "file_extension": ".py",
   "mimetype": "text/x-python",
   "name": "python",
   "nbconvert_exporter": "python",
   "pygments_lexer": "ipython2",
   "version": "2.7.6"
  }
 },
 "nbformat": 4,
 "nbformat_minor": 0
}